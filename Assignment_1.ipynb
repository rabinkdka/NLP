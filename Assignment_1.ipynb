{
  "nbformat": 4,
  "nbformat_minor": 0,
  "metadata": {
    "colab": {
      "provenance": [],
      "include_colab_link": true
    },
    "kernelspec": {
      "name": "python3",
      "display_name": "Python 3"
    },
    "language_info": {
      "name": "python"
    }
  },
  "cells": [
    {
      "cell_type": "markdown",
      "metadata": {
        "id": "view-in-github",
        "colab_type": "text"
      },
      "source": [
        "<a href=\"https://colab.research.google.com/github/rabinkdka/NLP/blob/main/Copy_of_0_AssignmentSubmissionTemplate.ipynb\" target=\"_parent\"><img src=\"https://colab.research.google.com/assets/colab-badge.svg\" alt=\"Open In Colab\"/></a>"
      ]
    },
    {
      "cell_type": "markdown",
      "source": [
        "# Assignment-1 Frequency Analysis and Bag of Words\n",
        "\n",
        "## Objective\n",
        "- Learn the keywords of NLP\n",
        "- Understand basic of NLP\n",
        "- Explore the Bag of words for basic analysis of text\n",
        "\n"
      ],
      "metadata": {
        "id": "LnRKTrs9pd8O"
      }
    },
    {
      "cell_type": "markdown",
      "source": [
        "## Your Details\n"
      ],
      "metadata": {
        "id": "QkBBpsTNqQnD"
      }
    },
    {
      "cell_type": "code",
      "source": [
        "import datetime\n",
        "\n",
        "student_rollno = 1\n",
        "student_name = 'Name'\n",
        "assignment_tag = 'MDS555-2023-Assignment-1'"
      ],
      "metadata": {
        "id": "BpF9fjJuqXBt"
      },
      "execution_count": null,
      "outputs": []
    },
    {
      "cell_type": "code",
      "source": [
        "# from checker_utils import done\n",
        "def done(task):\n",
        "    _date = datetime.datetime.now()\n",
        "    task = task + \": \" + str(_date)\n",
        "    print('='*len(task), '\\n', task , '\\n', '='*len(task), sep='')\n",
        "    pass"
      ],
      "metadata": {
        "id": "oAyWHgZIr8Et"
      },
      "execution_count": null,
      "outputs": []
    },
    {
      "cell_type": "markdown",
      "source": [
        "## Literature Review\n",
        "- Put your review of the literature related to Frequency analysis and bag of words\n",
        "- define terminologies used\n",
        "- put details of the library used\n",
        "\n"
      ],
      "metadata": {
        "id": "LWnpPiiRp7QL"
      }
    },
    {
      "cell_type": "markdown",
      "source": [
        "## Task 1: Dataset Preparation:\n",
        "\n",
        "Prepare the Nepali news dataset *(hint: you can obtain text from news websites, at least 20 different news of 2/3 different categories)*. Host the dataset in the public git repository."
      ],
      "metadata": {
        "id": "B9bq4oXes_E-"
      }
    },
    {
      "cell_type": "code",
      "source": [
        "# TODO"
      ],
      "metadata": {
        "id": "eJPOguP3pdg2"
      },
      "execution_count": null,
      "outputs": []
    },
    {
      "cell_type": "code",
      "execution_count": null,
      "metadata": {
        "id": "FV8206thpbmo",
        "colab": {
          "base_uri": "https://localhost:8080/"
        },
        "outputId": "de191855-ecb9-49c8-991a-c8b15bcb322e"
      },
      "outputs": [
        {
          "output_type": "stream",
          "name": "stdout",
          "text": [
            "==================================\n",
            "Task 1: 2023-09-01 12:37:26.902406\n",
            "==================================\n"
          ]
        }
      ],
      "source": [
        "done('Task 1')"
      ]
    },
    {
      "cell_type": "markdown",
      "source": [
        "## Task  2.1: Frequency Analysis\n",
        "\n",
        "Perform the frequency analysis on the text collected"
      ],
      "metadata": {
        "id": "zUE4li1lt1Aj"
      }
    },
    {
      "cell_type": "code",
      "source": [
        "# TODO"
      ],
      "metadata": {
        "id": "srs4zKYVt1Ao"
      },
      "execution_count": null,
      "outputs": []
    },
    {
      "cell_type": "code",
      "execution_count": null,
      "metadata": {
        "id": "A8cv8IuTt1Ap",
        "colab": {
          "base_uri": "https://localhost:8080/"
        },
        "outputId": "cdea80f6-f412-4b51-8ccc-3f6e30894067"
      },
      "outputs": [
        {
          "output_type": "stream",
          "name": "stdout",
          "text": [
            "====================================\n",
            "Task 2.1: 2023-09-01 12:37:26.952113\n",
            "====================================\n"
          ]
        }
      ],
      "source": [
        "done('Task 2.1')"
      ]
    },
    {
      "cell_type": "markdown",
      "source": [
        "## Task  2.2: Filter Stop words\n",
        "\n",
        "Improve Performance analysis by filtering stop words (you can also develop rule based )\n"
      ],
      "metadata": {
        "id": "Q1h3Hpzit1RZ"
      }
    },
    {
      "cell_type": "code",
      "source": [
        "# TODO"
      ],
      "metadata": {
        "id": "bwjPTC2Ht1Rb"
      },
      "execution_count": null,
      "outputs": []
    },
    {
      "cell_type": "code",
      "execution_count": null,
      "metadata": {
        "id": "i48GmStrt1Rb",
        "colab": {
          "base_uri": "https://localhost:8080/"
        },
        "outputId": "dfd655a1-2fea-4865-e069-50a642b49d18"
      },
      "outputs": [
        {
          "output_type": "stream",
          "name": "stdout",
          "text": [
            "====================================\n",
            "Task 2.2: 2023-09-01 12:37:27.002914\n",
            "====================================\n"
          ]
        }
      ],
      "source": [
        "done('Task 2.2')"
      ]
    },
    {
      "cell_type": "markdown",
      "source": [
        "## Task 3: BoW\n",
        "\n",
        "Task 3: BoW: Prepare Bag of Words (BoW) from the dataset\n"
      ],
      "metadata": {
        "id": "vzB9KKCft1m4"
      }
    },
    {
      "cell_type": "code",
      "source": [
        "# TODO"
      ],
      "metadata": {
        "id": "8QopY4_5t1m5"
      },
      "execution_count": null,
      "outputs": []
    },
    {
      "cell_type": "code",
      "execution_count": null,
      "metadata": {
        "id": "oMiG5F46t1m6",
        "colab": {
          "base_uri": "https://localhost:8080/"
        },
        "outputId": "77143fcd-d254-4d9d-ecfb-c6e79f48c838"
      },
      "outputs": [
        {
          "output_type": "stream",
          "name": "stdout",
          "text": [
            "==================================\n",
            "Task 3: 2023-09-01 12:37:27.043162\n",
            "==================================\n"
          ]
        }
      ],
      "source": [
        "done('Task 3')"
      ]
    },
    {
      "cell_type": "markdown",
      "source": [
        "## Task 4: Classification\n",
        "\n",
        "Classify the news based on Keywords and BoW you computed in Task 3.1"
      ],
      "metadata": {
        "id": "kCtEg1LNt3CO"
      }
    },
    {
      "cell_type": "code",
      "source": [
        "# TODO"
      ],
      "metadata": {
        "id": "Jn6lGM75t3CP"
      },
      "execution_count": null,
      "outputs": []
    },
    {
      "cell_type": "code",
      "execution_count": null,
      "metadata": {
        "id": "h8aRgsHVt3CQ",
        "colab": {
          "base_uri": "https://localhost:8080/"
        },
        "outputId": "cdf5d673-e484-4388-c5af-bf4399773881"
      },
      "outputs": [
        {
          "output_type": "stream",
          "name": "stdout",
          "text": [
            "==================================\n",
            "Task 4: 2023-09-01 12:37:27.083567\n",
            "==================================\n"
          ]
        }
      ],
      "source": [
        "done('Task 4')"
      ]
    }
  ]
}
